{
  "nbformat": 4,
  "nbformat_minor": 0,
  "metadata": {
    "colab": {
      "name": "Week 6 Assignment.ipynb",
      "provenance": [],
      "authorship_tag": "ABX9TyMVCW4iI993JD6guVonDcgb",
      "include_colab_link": true
    },
    "kernelspec": {
      "name": "python3",
      "display_name": "Python 3"
    }
  },
  "cells": [
    {
      "cell_type": "markdown",
      "metadata": {
        "id": "view-in-github",
        "colab_type": "text"
      },
      "source": [
        "<a href=\"https://colab.research.google.com/github/FS-Jorda/Introduction-to-Python/blob/master/Week_6_Assignment.ipynb\" target=\"_parent\"><img src=\"https://colab.research.google.com/assets/colab-badge.svg\" alt=\"Open In Colab\"/></a>"
      ]
    },
    {
      "cell_type": "code",
      "metadata": {
        "id": "NS0wG6-K-Z-U",
        "outputId": "c89bd1ea-558c-4f4b-d64e-96673df35bff",
        "colab": {
          "base_uri": "https://localhost:8080/",
          "height": 187
        }
      },
      "source": [
        "#0\n",
        "\n",
        "HelloWorld = [\"Hello\", \"World\"]\n",
        "print(HelloWorld)\n",
        "\n",
        "#1\n",
        "\n",
        "my_fruit = []\n",
        "\n",
        "fruit = input(\"Enter a fruit to add to the list, enter stop to end the list:\")\n",
        "\n",
        "\n",
        "while not fruit == \"stop\":\n",
        "  my_fruit.append(fruit)\n",
        "  fruit = input(\"Enter a fruit to add to the list, enter stop to end the list:\")\n",
        "\n",
        "print(\"The final list is: \", my_fruit)\n",
        "\n",
        "#2\n",
        "\n",
        "my_fruit = [\"Orange\", \"Grape\", \"Apple\"]\n",
        "\n",
        "fruit = input(\"Enter a fruit to add to the list, enter stop to end the list:\")\n",
        "\n",
        "\n",
        "while not fruit == \"stop\":\n",
        "  my_fruit.append(fruit)\n",
        "  fruit = input(\"Enter a fruit to add to the list, enter stop to end the list:\")\n",
        "\n",
        "print(\"The final list is: \", my_fruit)\n",
        "\n",
        "my_fruit.remove(\"Orange\")\n",
        "print(my_fruit)\n",
        "\n",
        "#3\n",
        "\n",
        "my_fruit = [\"Orange\", \"Grape\", \"Apple\", \"Olive\"]\n",
        "\n",
        "fruit = input(\"Enter a fruit to add to the list, enter stop to end the list:\")\n",
        "\n",
        "\n",
        "while not fruit == \"stop\":\n",
        "  my_fruit.append(fruit)\n",
        "  fruit = input(\"Enter a fruit to add to the list, enter stop to end the list:\")\n",
        "\n",
        "print(\"The final list is: \", my_fruit)\n",
        "\n",
        "if \"Olive\" in my_fruit:\n",
        "  my_fruit.remove(\"Olive\")\n",
        "  print(my_fruit)\n"
      ],
      "execution_count": 24,
      "outputs": [
        {
          "output_type": "stream",
          "text": [
            "['Hello', 'World']\n",
            "Enter a fruit to add to the list, enter stop to end the list:stop\n",
            "The final list is:  []\n",
            "Enter a fruit to add to the list, enter stop to end the list:top\n",
            "Enter a fruit to add to the list, enter stop to end the list:stop\n",
            "The final list is:  ['Orange', 'Grape', 'Apple', 'top']\n",
            "['Grape', 'Apple', 'top']\n",
            "Enter a fruit to add to the list, enter stop to end the list:stop\n",
            "The final list is:  ['Orange', 'Grape', 'Apple', 'Olive']\n",
            "['Orange', 'Grape', 'Apple']\n"
          ],
          "name": "stdout"
        }
      ]
    },
    {
      "cell_type": "code",
      "metadata": {
        "id": "Ou1g1MCIPYKo"
      },
      "source": [
        ""
      ],
      "execution_count": null,
      "outputs": []
    }
  ]
}